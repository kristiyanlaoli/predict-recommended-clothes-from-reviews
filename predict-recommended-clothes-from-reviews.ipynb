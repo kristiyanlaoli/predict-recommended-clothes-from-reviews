{
 "cells": [
  {
   "cell_type": "code",
   "execution_count": 1,
   "id": "a8dc91ed",
   "metadata": {
    "_cell_guid": "b1076dfc-b9ad-4769-8c92-a6c4dae69d19",
    "_uuid": "8f2839f25d086af736a60e9eeb907d3b93b6e0e5",
    "execution": {
     "iopub.execute_input": "2022-06-21T16:14:16.274824Z",
     "iopub.status.busy": "2022-06-21T16:14:16.274111Z",
     "iopub.status.idle": "2022-06-21T16:14:16.286771Z",
     "shell.execute_reply": "2022-06-21T16:14:16.285725Z",
     "shell.execute_reply.started": "2021-07-19T08:14:26.534261Z"
    },
    "papermill": {
     "duration": 0.039953,
     "end_time": "2022-06-21T16:14:16.287017",
     "exception": false,
     "start_time": "2022-06-21T16:14:16.247064",
     "status": "completed"
    },
    "tags": []
   },
   "outputs": [
    {
     "name": "stdout",
     "output_type": "stream",
     "text": [
      "/kaggle/input/womens-ecommerce-clothing-reviews/Womens Clothing E-Commerce Reviews.csv\n"
     ]
    }
   ],
   "source": [
    "# This Python 3 environment comes with many helpful analytics libraries installed\n",
    "# It is defined by the kaggle/python Docker image: https://github.com/kaggle/docker-python\n",
    "# For example, here's several helpful packages to load\n",
    "\n",
    "import numpy as np # linear algebra\n",
    "import pandas as pd # data processing, CSV file I/O (e.g. pd.read_csv)\n",
    "\n",
    "# Input data files are available in the read-only \"../input/\" directory\n",
    "# For example, running this (by clicking run or pressing Shift+Enter) will list all files under the input directory\n",
    "\n",
    "import os\n",
    "for dirname, _, filenames in os.walk('/kaggle/input'):\n",
    "    for filename in filenames:\n",
    "        print(os.path.join(dirname, filename))\n",
    "\n",
    "# You can write up to 20GB to the current directory (/kaggle/working/) that gets preserved as output when you create a version using \"Save & Run All\" \n",
    "# You can also write temporary files to /kaggle/temp/, but they won't be saved outside of the current session"
   ]
  },
  {
   "cell_type": "code",
   "execution_count": 2,
   "id": "a914839e",
   "metadata": {
    "execution": {
     "iopub.execute_input": "2022-06-21T16:14:16.315224Z",
     "iopub.status.busy": "2022-06-21T16:14:16.314358Z",
     "iopub.status.idle": "2022-06-21T16:14:16.677212Z",
     "shell.execute_reply": "2022-06-21T16:14:16.677848Z",
     "shell.execute_reply.started": "2021-07-19T08:14:26.547233Z"
    },
    "papermill": {
     "duration": 0.379208,
     "end_time": "2022-06-21T16:14:16.678049",
     "exception": false,
     "start_time": "2022-06-21T16:14:16.298841",
     "status": "completed"
    },
    "tags": []
   },
   "outputs": [
    {
     "name": "stdout",
     "output_type": "stream",
     "text": [
      "<class 'pandas.core.frame.DataFrame'>\n",
      "RangeIndex: 23486 entries, 0 to 23485\n",
      "Data columns (total 11 columns):\n",
      " #   Column                   Non-Null Count  Dtype \n",
      "---  ------                   --------------  ----- \n",
      " 0   Unnamed: 0               23486 non-null  int64 \n",
      " 1   Clothing ID              23486 non-null  int64 \n",
      " 2   Age                      23486 non-null  int64 \n",
      " 3   Title                    19676 non-null  object\n",
      " 4   Review Text              22641 non-null  object\n",
      " 5   Rating                   23486 non-null  int64 \n",
      " 6   Recommended IND          23486 non-null  int64 \n",
      " 7   Positive Feedback Count  23486 non-null  int64 \n",
      " 8   Division Name            23472 non-null  object\n",
      " 9   Department Name          23472 non-null  object\n",
      " 10  Class Name               23472 non-null  object\n",
      "dtypes: int64(6), object(5)\n",
      "memory usage: 2.0+ MB\n"
     ]
    }
   ],
   "source": [
    "# Read Womens Clothing E-Commerce Reviews.csv:\n",
    "import pandas as pd\n",
    "df = pd.read_csv('../input/womens-ecommerce-clothing-reviews/Womens Clothing E-Commerce Reviews.csv')\n",
    "df.info()"
   ]
  },
  {
   "cell_type": "code",
   "execution_count": 3,
   "id": "7aee28e7",
   "metadata": {
    "execution": {
     "iopub.execute_input": "2022-06-21T16:14:16.704547Z",
     "iopub.status.busy": "2022-06-21T16:14:16.703558Z",
     "iopub.status.idle": "2022-06-21T16:14:16.752494Z",
     "shell.execute_reply": "2022-06-21T16:14:16.752949Z",
     "shell.execute_reply.started": "2021-07-19T08:14:26.735906Z"
    },
    "papermill": {
     "duration": 0.063699,
     "end_time": "2022-06-21T16:14:16.753152",
     "exception": false,
     "start_time": "2022-06-21T16:14:16.689453",
     "status": "completed"
    },
    "tags": []
   },
   "outputs": [
    {
     "data": {
      "text/html": [
       "<div>\n",
       "<style scoped>\n",
       "    .dataframe tbody tr th:only-of-type {\n",
       "        vertical-align: middle;\n",
       "    }\n",
       "\n",
       "    .dataframe tbody tr th {\n",
       "        vertical-align: top;\n",
       "    }\n",
       "\n",
       "    .dataframe thead th {\n",
       "        text-align: right;\n",
       "    }\n",
       "</style>\n",
       "<table border=\"1\" class=\"dataframe\">\n",
       "  <thead>\n",
       "    <tr style=\"text-align: right;\">\n",
       "      <th></th>\n",
       "      <th>Review Text</th>\n",
       "      <th>Recommended IND</th>\n",
       "    </tr>\n",
       "  </thead>\n",
       "  <tbody>\n",
       "    <tr>\n",
       "      <th>0</th>\n",
       "      <td>Absolutely wonderful - silky and sexy and comf...</td>\n",
       "      <td>1</td>\n",
       "    </tr>\n",
       "    <tr>\n",
       "      <th>1</th>\n",
       "      <td>Love this dress!  it's sooo pretty.  i happene...</td>\n",
       "      <td>1</td>\n",
       "    </tr>\n",
       "    <tr>\n",
       "      <th>2</th>\n",
       "      <td>I had such high hopes for this dress and reall...</td>\n",
       "      <td>0</td>\n",
       "    </tr>\n",
       "    <tr>\n",
       "      <th>3</th>\n",
       "      <td>I love, love, love this jumpsuit. it's fun, fl...</td>\n",
       "      <td>1</td>\n",
       "    </tr>\n",
       "    <tr>\n",
       "      <th>4</th>\n",
       "      <td>This shirt is very flattering to all due to th...</td>\n",
       "      <td>1</td>\n",
       "    </tr>\n",
       "    <tr>\n",
       "      <th>...</th>\n",
       "      <td>...</td>\n",
       "      <td>...</td>\n",
       "    </tr>\n",
       "    <tr>\n",
       "      <th>23481</th>\n",
       "      <td>I was very happy to snag this dress at such a ...</td>\n",
       "      <td>1</td>\n",
       "    </tr>\n",
       "    <tr>\n",
       "      <th>23482</th>\n",
       "      <td>It reminds me of maternity clothes. soft, stre...</td>\n",
       "      <td>1</td>\n",
       "    </tr>\n",
       "    <tr>\n",
       "      <th>23483</th>\n",
       "      <td>This fit well, but the top was very see throug...</td>\n",
       "      <td>0</td>\n",
       "    </tr>\n",
       "    <tr>\n",
       "      <th>23484</th>\n",
       "      <td>I bought this dress for a wedding i have this ...</td>\n",
       "      <td>1</td>\n",
       "    </tr>\n",
       "    <tr>\n",
       "      <th>23485</th>\n",
       "      <td>This dress in a lovely platinum is feminine an...</td>\n",
       "      <td>1</td>\n",
       "    </tr>\n",
       "  </tbody>\n",
       "</table>\n",
       "<p>22641 rows × 2 columns</p>\n",
       "</div>"
      ],
      "text/plain": [
       "                                             Review Text  Recommended IND\n",
       "0      Absolutely wonderful - silky and sexy and comf...                1\n",
       "1      Love this dress!  it's sooo pretty.  i happene...                1\n",
       "2      I had such high hopes for this dress and reall...                0\n",
       "3      I love, love, love this jumpsuit. it's fun, fl...                1\n",
       "4      This shirt is very flattering to all due to th...                1\n",
       "...                                                  ...              ...\n",
       "23481  I was very happy to snag this dress at such a ...                1\n",
       "23482  It reminds me of maternity clothes. soft, stre...                1\n",
       "23483  This fit well, but the top was very see throug...                0\n",
       "23484  I bought this dress for a wedding i have this ...                1\n",
       "23485  This dress in a lovely platinum is feminine an...                1\n",
       "\n",
       "[22641 rows x 2 columns]"
      ]
     },
     "execution_count": 3,
     "metadata": {},
     "output_type": "execute_result"
    }
   ],
   "source": [
    "# Only take the review and recommendation column\n",
    "df = df.drop(df.columns[[0, 1, 2, 3, 5, 7, 8, 9, 10]], axis=1)\n",
    "df = df.dropna()\n",
    "df"
   ]
  },
  {
   "cell_type": "markdown",
   "id": "e117df76",
   "metadata": {
    "papermill": {
     "duration": 0.011393,
     "end_time": "2022-06-21T16:14:16.776201",
     "exception": false,
     "start_time": "2022-06-21T16:14:16.764808",
     "status": "completed"
    },
    "tags": []
   },
   "source": [
    "Review Text: reviews of women's clothes. Recommended Id: 1 means Recommended, 0 means Not Recommended"
   ]
  },
  {
   "cell_type": "code",
   "execution_count": 4,
   "id": "ae056ce3",
   "metadata": {
    "execution": {
     "iopub.execute_input": "2022-06-21T16:14:16.804864Z",
     "iopub.status.busy": "2022-06-21T16:14:16.803805Z",
     "iopub.status.idle": "2022-06-21T16:14:17.785940Z",
     "shell.execute_reply": "2022-06-21T16:14:17.785355Z",
     "shell.execute_reply.started": "2021-07-19T08:14:26.765668Z"
    },
    "papermill": {
     "duration": 0.997345,
     "end_time": "2022-06-21T16:14:17.786108",
     "exception": false,
     "start_time": "2022-06-21T16:14:16.788763",
     "status": "completed"
    },
    "tags": []
   },
   "outputs": [],
   "source": [
    "# Split data into train data and test data\n",
    "from sklearn.model_selection import train_test_split\n",
    "review = df['Review Text'].values\n",
    "recommendation = df['Recommended IND'].values\n",
    "review_train, review_test, recommendation_train, recommendation_test = train_test_split(review, recommendation, test_size=0.2)"
   ]
  },
  {
   "cell_type": "code",
   "execution_count": 5,
   "id": "3da22775",
   "metadata": {
    "execution": {
     "iopub.execute_input": "2022-06-21T16:14:17.814644Z",
     "iopub.status.busy": "2022-06-21T16:14:17.813416Z",
     "iopub.status.idle": "2022-06-21T16:14:26.994764Z",
     "shell.execute_reply": "2022-06-21T16:14:26.995305Z",
     "shell.execute_reply.started": "2021-07-19T08:14:26.792125Z"
    },
    "papermill": {
     "duration": 9.197606,
     "end_time": "2022-06-21T16:14:26.995513",
     "exception": false,
     "start_time": "2022-06-21T16:14:17.797907",
     "status": "completed"
    },
    "tags": []
   },
   "outputs": [],
   "source": [
    "# Tokenization of review texts\n",
    "from tensorflow.keras.preprocessing.text import Tokenizer\n",
    "from tensorflow.keras.preprocessing.sequence import pad_sequences\n",
    " \n",
    "tokenizer = Tokenizer(num_words=50000, oov_token='x')\n",
    "tokenizer.fit_on_texts(review_train) \n",
    "tokenizer.fit_on_texts(review_test)\n",
    " \n",
    "sequence_train = tokenizer.texts_to_sequences(review_train)\n",
    "sequence_test = tokenizer.texts_to_sequences(review_test)\n",
    "\n",
    "padded_train = pad_sequences(sequence_train) \n",
    "padded_test = pad_sequences(sequence_test)"
   ]
  },
  {
   "cell_type": "code",
   "execution_count": 6,
   "id": "66435484",
   "metadata": {
    "execution": {
     "iopub.execute_input": "2022-06-21T16:14:27.025828Z",
     "iopub.status.busy": "2022-06-21T16:14:27.025193Z",
     "iopub.status.idle": "2022-06-21T16:14:27.484894Z",
     "shell.execute_reply": "2022-06-21T16:14:27.484326Z",
     "shell.execute_reply.started": "2021-07-19T08:14:29.83006Z"
    },
    "papermill": {
     "duration": 0.477653,
     "end_time": "2022-06-21T16:14:27.485073",
     "exception": false,
     "start_time": "2022-06-21T16:14:27.007420",
     "status": "completed"
    },
    "tags": []
   },
   "outputs": [],
   "source": [
    "# Neural network model with a sequential model\n",
    "import tensorflow as tf\n",
    "model = tf.keras.Sequential([\n",
    "    tf.keras.layers.Embedding(input_dim=50000, output_dim=16),\n",
    "    tf.keras.layers.LSTM(64),\n",
    "    tf.keras.layers.Dense(10, activation='relu'),\n",
    "    tf.keras.layers.Dense(1, activation='sigmoid')\n",
    "])\n",
    "model.compile(loss='binary_crossentropy',optimizer='adam',metrics=['accuracy'])"
   ]
  },
  {
   "cell_type": "code",
   "execution_count": 7,
   "id": "835672a7",
   "metadata": {
    "execution": {
     "iopub.execute_input": "2022-06-21T16:14:27.514080Z",
     "iopub.status.busy": "2022-06-21T16:14:27.513357Z",
     "iopub.status.idle": "2022-06-21T16:20:18.603152Z",
     "shell.execute_reply": "2022-06-21T16:20:18.603718Z",
     "shell.execute_reply.started": "2021-07-19T08:14:30.113392Z"
    },
    "papermill": {
     "duration": 351.107167,
     "end_time": "2022-06-21T16:20:18.603894",
     "exception": false,
     "start_time": "2022-06-21T16:14:27.496727",
     "status": "completed"
    },
    "tags": []
   },
   "outputs": [
    {
     "name": "stdout",
     "output_type": "stream",
     "text": [
      "Epoch 1/10\n",
      "566/566 - 37s - loss: 0.3340 - accuracy: 0.8583 - val_loss: 0.2426 - val_accuracy: 0.8960\n",
      "Epoch 2/10\n",
      "566/566 - 34s - loss: 0.2155 - accuracy: 0.9103 - val_loss: 0.2527 - val_accuracy: 0.8951\n",
      "Epoch 3/10\n",
      "566/566 - 34s - loss: 0.1794 - accuracy: 0.9270 - val_loss: 0.2849 - val_accuracy: 0.8987\n",
      "Epoch 4/10\n",
      "566/566 - 35s - loss: 0.1537 - accuracy: 0.9387 - val_loss: 0.2879 - val_accuracy: 0.8900\n",
      "Epoch 5/10\n",
      "566/566 - 36s - loss: 0.1269 - accuracy: 0.9520 - val_loss: 0.2984 - val_accuracy: 0.8920\n",
      "Epoch 6/10\n",
      "566/566 - 35s - loss: 0.1067 - accuracy: 0.9595 - val_loss: 0.3477 - val_accuracy: 0.8872\n",
      "Epoch 7/10\n",
      "566/566 - 35s - loss: 0.0951 - accuracy: 0.9647 - val_loss: 0.3756 - val_accuracy: 0.8797\n",
      "Epoch 8/10\n",
      "566/566 - 35s - loss: 0.0788 - accuracy: 0.9727 - val_loss: 0.4022 - val_accuracy: 0.8828\n",
      "Epoch 9/10\n",
      "566/566 - 35s - loss: 0.0674 - accuracy: 0.9744 - val_loss: 0.4249 - val_accuracy: 0.8715\n",
      "Epoch 10/10\n",
      "566/566 - 34s - loss: 0.0573 - accuracy: 0.9802 - val_loss: 0.4394 - val_accuracy: 0.8777\n"
     ]
    }
   ],
   "source": [
    "# Training process\n",
    "# In addition, if we want to display accuracy in each model training process we can add a metrics parameter and fill it with the string 'accuracy'.\n",
    "num_epochs = 10\n",
    "history = model.fit(padded_train, recommendation_train, epochs=num_epochs, \n",
    "                    validation_data=(padded_test, recommendation_test), verbose=2)"
   ]
  },
  {
   "cell_type": "code",
   "execution_count": 8,
   "id": "207b9141",
   "metadata": {
    "execution": {
     "iopub.execute_input": "2022-06-21T16:20:18.670856Z",
     "iopub.status.busy": "2022-06-21T16:20:18.655594Z",
     "iopub.status.idle": "2022-06-21T16:20:18.867650Z",
     "shell.execute_reply": "2022-06-21T16:20:18.866748Z",
     "shell.execute_reply.started": "2021-07-19T08:19:34.072801Z"
    },
    "papermill": {
     "duration": 0.245374,
     "end_time": "2022-06-21T16:20:18.867809",
     "exception": false,
     "start_time": "2022-06-21T16:20:18.622435",
     "status": "completed"
    },
    "tags": []
   },
   "outputs": [
    {
     "data": {
      "image/png": "[encoded data removed]",
      "text/plain": [
       "<Figure size 432x288 with 1 Axes>"
      ]
     },
     "metadata": {
      "needs_background": "light"
     },
     "output_type": "display_data"
    }
   ],
   "source": [
    "# Plotting training accuracy and validation accuracy\n",
    "import matplotlib.pyplot as plt\n",
    "plt.plot(history.history['accuracy'], 'r', label='Accuracy Training')\n",
    "plt.plot(history.history['val_accuracy'], 'b', label='Accuracy Validation')\n",
    "plt.title('Accuracy Training and Validation')\n",
    "plt.ylabel('Accuracy')\n",
    "plt.xlabel('Epoch')\n",
    "plt.legend(loc=0)\n",
    "plt.show()"
   ]
  },
  {
   "cell_type": "code",
   "execution_count": 9,
   "id": "022f07e3",
   "metadata": {
    "execution": {
     "iopub.execute_input": "2022-06-21T16:20:18.914074Z",
     "iopub.status.busy": "2022-06-21T16:20:18.913086Z",
     "iopub.status.idle": "2022-06-21T16:20:19.100392Z",
     "shell.execute_reply": "2022-06-21T16:20:19.101023Z",
     "shell.execute_reply.started": "2021-07-19T08:19:34.261549Z"
    },
    "papermill": {
     "duration": 0.2116,
     "end_time": "2022-06-21T16:20:19.101215",
     "exception": false,
     "start_time": "2022-06-21T16:20:18.889615",
     "status": "completed"
    },
    "tags": []
   },
   "outputs": [
    {
     "data": {
      "image/png": "[encoded data removed]",
      "text/plain": [
       "<Figure size 432x288 with 1 Axes>"
      ]
     },
     "metadata": {
      "needs_background": "light"
     },
     "output_type": "display_data"
    }
   ],
   "source": [
    "# Plotting training loss and validation loss\n",
    "import matplotlib.pyplot as plt\n",
    "plt.plot(history.history['loss'], 'r', label='Loss Training')\n",
    "plt.plot(history.history['val_loss'], 'b', label='Loss Validation')\n",
    "plt.title('Loss Training and Validation')\n",
    "plt.ylabel('Loss')\n",
    "plt.xlabel('Epoch')\n",
    "plt.legend(loc=0)\n",
    "plt.show()"
   ]
  },
  {
   "cell_type": "markdown",
   "id": "cc7e4f53",
   "metadata": {
    "papermill": {
     "duration": 0.019582,
     "end_time": "2022-06-21T16:20:19.141257",
     "exception": false,
     "start_time": "2022-06-21T16:20:19.121675",
     "status": "completed"
    },
    "tags": []
   },
   "source": [
    "You can tinker with the Sequential Model part to get great results like adding the dropout() function."
   ]
  },
  {
   "cell_type": "code",
   "execution_count": 10,
   "id": "9cc679aa",
   "metadata": {
    "execution": {
     "iopub.execute_input": "2022-06-21T16:20:19.186972Z",
     "iopub.status.busy": "2022-06-21T16:20:19.186014Z",
     "iopub.status.idle": "2022-06-21T16:20:19.651430Z",
     "shell.execute_reply": "2022-06-21T16:20:19.651938Z",
     "shell.execute_reply.started": "2021-07-19T08:19:34.44807Z"
    },
    "papermill": {
     "duration": 0.489936,
     "end_time": "2022-06-21T16:20:19.652159",
     "exception": false,
     "start_time": "2022-06-21T16:20:19.162223",
     "status": "completed"
    },
    "tags": []
   },
   "outputs": [
    {
     "name": "stderr",
     "output_type": "stream",
     "text": [
      "/opt/conda/lib/python3.7/site-packages/tensorflow/python/keras/engine/sequential.py:450: UserWarning: `model.predict_classes()` is deprecated and will be removed after 2021-01-01. Please use instead:* `np.argmax(model.predict(x), axis=-1)`,   if your model does multi-class classification   (e.g. if it uses a `softmax` last-layer activation).* `(model.predict(x) > 0.5).astype(\"int32\")`,   if your model does binary classification   (e.g. if it uses a `sigmoid` last-layer activation).\n",
      "  warnings.warn('`model.predict_classes()` is deprecated and '\n"
     ]
    },
    {
     "name": "stdout",
     "output_type": "stream",
     "text": [
      "Not Recommended\n"
     ]
    }
   ],
   "source": [
    "# You can try your review.\n",
    "my_review = [\"I really wanted to like this dress. the material, design, length and fit all over was perfect, except for the armholes- too big and the ruffles came right upto the nipple line. not comfortable with that. sadly, had to return.\"]\n",
    "result = tokenizer.texts_to_sequences(my_review)\n",
    "result = pad_sequences(result)\n",
    "\n",
    "#print recommended or not\n",
    "import numpy as np\n",
    "result = model.predict_classes(result)\n",
    "if result == [0]:\n",
    "  print('Not Recommended')\n",
    "elif result == [1]:\n",
    "  print('Recommended')"
   ]
  }
 ],
 "metadata": {
  "kernelspec": {
   "display_name": "Python 3",
   "language": "python",
   "name": "python3"
  },
  "language_info": {
   "codemirror_mode": {
    "name": "ipython",
    "version": 3
   },
   "file_extension": ".py",
   "mimetype": "text/x-python",
   "name": "python",
   "nbconvert_exporter": "python",
   "pygments_lexer": "ipython3",
   "version": "3.7.10"
  },
  "papermill": {
   "default_parameters": {},
   "duration": 374.05655,
   "end_time": "2022-06-21T16:20:21.239837",
   "environment_variables": {},
   "exception": null,
   "input_path": "__notebook__.ipynb",
   "output_path": "__notebook__.ipynb",
   "parameters": {},
   "start_time": "2022-06-21T16:14:07.183287",
   "version": "2.3.3"
  }
 },
 "nbformat": 4,
 "nbformat_minor": 5
}
